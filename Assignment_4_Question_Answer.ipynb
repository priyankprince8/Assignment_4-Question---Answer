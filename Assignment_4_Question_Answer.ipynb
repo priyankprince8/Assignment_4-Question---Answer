{
  "nbformat": 4,
  "nbformat_minor": 0,
  "metadata": {
    "colab": {
      "provenance": []
    },
    "kernelspec": {
      "name": "python3",
      "display_name": "Python 3"
    },
    "language_info": {
      "name": "python"
    }
  },
  "cells": [
    {
      "cell_type": "code",
      "execution_count": 3,
      "metadata": {
        "id": "R4M5aEuSoB7-"
      },
      "outputs": [],
      "source": [
        "#Question 1\n",
        "def find_common_elements(arr1, arr2, arr3):\n",
        "    pt1, pt2, pt3 = 0, 0, 0\n",
        "    result = []\n",
        "    \n",
        "    while pt1 < len(arr1) and pt2 < len(arr2) and pt3 < len(arr3):\n",
        "        if arr1[pt1] == arr2[pt2] == arr3[pt3]:\n",
        "            result.append(arr1[pt1])\n",
        "            pt1 += 1\n",
        "            pt2 += 1\n",
        "            pt3 += 1\n",
        "        elif arr1[pt1] < arr2[pt2]:\n",
        "            pt1 += 1\n",
        "        elif arr2[pt2] < arr3[pt3]:\n",
        "            pt2 += 1\n",
        "        else:\n",
        "            pt3 += 1\n",
        "    \n",
        "    return result\n"
      ]
    },
    {
      "cell_type": "code",
      "source": [
        "arr1 = [1, 2, 3, 4, 5]\n",
        "arr2 = [1, 2, 5, 7, 9]\n",
        "arr3 = [1, 3, 4, 5, 8]\n",
        "\n",
        "output = find_common_elements(arr1, arr2, arr3)\n",
        "print(output)\n"
      ],
      "metadata": {
        "colab": {
          "base_uri": "https://localhost:8080/"
        },
        "id": "bNoU0sqhtqZk",
        "outputId": "c3853aed-039d-45d4-b6bb-647316df1838"
      },
      "execution_count": 4,
      "outputs": [
        {
          "output_type": "stream",
          "name": "stdout",
          "text": [
            "[1, 5]\n"
          ]
        }
      ]
    },
    {
      "cell_type": "code",
      "source": [
        "#Question 2\n",
        "def find_disjoint(nums1, nums2):\n",
        "    set1 = set(nums1)\n",
        "    set2 = set(nums2)\n",
        "    \n",
        "    diff1 = list(set1 - set2)\n",
        "    diff2 = list(set2 - set1)\n",
        "    \n",
        "    result = [diff1, diff2]\n",
        "    return result\n"
      ],
      "metadata": {
        "id": "M6S0r1SwtyxV"
      },
      "execution_count": 5,
      "outputs": []
    },
    {
      "cell_type": "code",
      "source": [
        "nums1 = [1, 2, 3]\n",
        "nums2 = [2, 4, 6]\n",
        "\n",
        "output = find_disjoint(nums1, nums2)\n",
        "print(output)\n"
      ],
      "metadata": {
        "colab": {
          "base_uri": "https://localhost:8080/"
        },
        "id": "4TjdPo3fvejP",
        "outputId": "09487d0f-f070-4ade-aa53-640d88de8991"
      },
      "execution_count": 6,
      "outputs": [
        {
          "output_type": "stream",
          "name": "stdout",
          "text": [
            "[[1, 3], [4, 6]]\n"
          ]
        }
      ]
    },
    {
      "cell_type": "code",
      "source": [
        "#Question 3\n",
        "def transpose(matrix):\n",
        "    rows = len(matrix)\n",
        "    columns = len(matrix[0])\n",
        "    \n",
        "    transposed_matrix = [[] for _ in range(columns)]\n",
        "    \n",
        "    for column in range(columns):\n",
        "        for row in range(rows):\n",
        "            transposed_matrix[column].append(matrix[row][column])\n",
        "    \n",
        "    return transposed_matrix\n",
        "\n",
        "    matrix = [[1, 2, 3], [4, 5, 6], [7, 8, 9]]\n",
        "\n",
        "output = transpose(matrix)\n",
        "print(output)\n",
        "\n"
      ],
      "metadata": {
        "colab": {
          "base_uri": "https://localhost:8080/"
        },
        "id": "Z3nBBtVBvnxT",
        "outputId": "a526693d-b1bb-4ff7-d4b5-9b6623c7665a"
      },
      "execution_count": 12,
      "outputs": [
        {
          "output_type": "stream",
          "name": "stdout",
          "text": [
            "[[1, 4, 7], [2, 5, 8], [3, 6, 9]]\n"
          ]
        }
      ]
    },
    {
      "cell_type": "code",
      "source": [
        "#Question 4\n",
        "def array_pair_sum(nums):\n",
        "    nums.sort()\n",
        "    max_sum = 0\n",
        "    \n",
        "    for i in range(0, len(nums), 2):\n",
        "        max_sum += min(nums[i], nums[i+1])\n",
        "    \n",
        "    return max_sum\n"
      ],
      "metadata": {
        "id": "ZKG2BhQmw8L5"
      },
      "execution_count": 13,
      "outputs": []
    },
    {
      "cell_type": "code",
      "source": [
        "nums = [1, 4, 3, 2]\n",
        "\n",
        "output = array_pair_sum(nums)\n",
        "print(output)\n"
      ],
      "metadata": {
        "colab": {
          "base_uri": "https://localhost:8080/"
        },
        "id": "H9Gspdz0yfuw",
        "outputId": "79b9e0ec-e30d-4fe7-b20d-f39c42a53c27"
      },
      "execution_count": 14,
      "outputs": [
        {
          "output_type": "stream",
          "name": "stdout",
          "text": [
            "4\n"
          ]
        }
      ]
    },
    {
      "cell_type": "code",
      "source": [
        "#Question 5\n",
        "def arrange_coins(n):\n",
        "    k = 0\n",
        "    \n",
        "    while (k * (k + 1)) // 2 <= n:\n",
        "        k += 1\n",
        "    \n",
        "    return k - 1\n",
        "n = 5\n",
        "\n",
        "output = arrange_coins(n)\n",
        "print(output)\n"
      ],
      "metadata": {
        "colab": {
          "base_uri": "https://localhost:8080/"
        },
        "id": "gKHSGn0Uykox",
        "outputId": "ce72bb00-f441-44a7-cee3-b427d34eb5b4"
      },
      "execution_count": 15,
      "outputs": [
        {
          "output_type": "stream",
          "name": "stdout",
          "text": [
            "2\n"
          ]
        }
      ]
    },
    {
      "cell_type": "code",
      "source": [
        "#Question 6\n",
        "def sorted_squares(nums):\n",
        "    result = []\n",
        "    \n",
        "    for num in nums:\n",
        "        result.append(num ** 2)\n",
        "    \n",
        "    result.sort()\n",
        "    \n",
        "    return result\n",
        "nums = [-4, -1, 0, 3, 10]\n",
        "\n",
        "output = sorted_squares(nums)\n",
        "print(output)\n"
      ],
      "metadata": {
        "colab": {
          "base_uri": "https://localhost:8080/"
        },
        "id": "-fgn9ZJMy-_E",
        "outputId": "62326f48-003a-48c3-88aa-65d8dc702043"
      },
      "execution_count": 16,
      "outputs": [
        {
          "output_type": "stream",
          "name": "stdout",
          "text": [
            "[0, 1, 9, 16, 100]\n"
          ]
        }
      ]
    },
    {
      "cell_type": "code",
      "source": [
        "#Question 7\n",
        "def max_count(m, n, ops):\n",
        "    min_row = float('inf')\n",
        "    min_col = float('inf')\n",
        "    \n",
        "    for op in ops:\n",
        "        min_row = min(min_row, op[0])\n",
        "        min_col = min(min_col, op[1])\n",
        "    \n",
        "    return min_row * min_col\n"
      ],
      "metadata": {
        "id": "Zn6thtxfzokR"
      },
      "execution_count": 17,
      "outputs": []
    },
    {
      "cell_type": "code",
      "source": [
        "m = 3\n",
        "n = 3\n",
        "ops = [[2, 2], [3, 3]]\n",
        "\n",
        "output = max_count(m, n, ops)\n",
        "print(output)\n"
      ],
      "metadata": {
        "colab": {
          "base_uri": "https://localhost:8080/"
        },
        "id": "rAGUv4VB0nPi",
        "outputId": "64804647-c252-4b52-d8c0-4b01f443fcda"
      },
      "execution_count": 18,
      "outputs": [
        {
          "output_type": "stream",
          "name": "stdout",
          "text": [
            "4\n"
          ]
        }
      ]
    },
    {
      "cell_type": "code",
      "source": [
        "#Question 8\n",
        "def rearrange_array(nums):\n",
        "    n = len(nums) // 2\n",
        "    result = []\n",
        "    \n",
        "    for i in range(n):\n",
        "        result.append(nums[i])\n",
        "        result.append(nums[i + n])\n",
        "    \n",
        "    return result\n"
      ],
      "metadata": {
        "id": "q6Qv9vpT0twu"
      },
      "execution_count": 19,
      "outputs": []
    },
    {
      "cell_type": "code",
      "source": [
        "nums = [2, 5, 1, 3, 4, 7]\n",
        "\n",
        "output = rearrange_array(nums)\n",
        "print(output)\n"
      ],
      "metadata": {
        "colab": {
          "base_uri": "https://localhost:8080/"
        },
        "id": "ykm8yOC21JqE",
        "outputId": "8e1b1586-4884-4f90-ce33-24151bf30b43"
      },
      "execution_count": 20,
      "outputs": [
        {
          "output_type": "stream",
          "name": "stdout",
          "text": [
            "[2, 3, 5, 4, 1, 7]\n"
          ]
        }
      ]
    },
    {
      "cell_type": "code",
      "source": [],
      "metadata": {
        "id": "Lh0zUXmh1Pgb"
      },
      "execution_count": null,
      "outputs": []
    }
  ]
}